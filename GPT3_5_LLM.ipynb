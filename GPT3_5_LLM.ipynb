{
  "nbformat": 4,
  "nbformat_minor": 0,
  "metadata": {
    "colab": {
      "provenance": []
    },
    "kernelspec": {
      "name": "python3",
      "display_name": "Python 3"
    },
    "language_info": {
      "name": "python"
    }
  },
  "cells": [
    {
      "cell_type": "code",
      "execution_count": null,
      "metadata": {
        "id": "1oh1Sfu-wR4D"
      },
      "outputs": [],
      "source": [
        "import openai\n",
        "\n",
        "openai.api_key = '*********************'\n",
        "\n",
        "def normalize_attributes(input_json):\n",
        "    prompt = (\n",
        "        \"Normalize all attributes which are given in the JSON schema. Follow all the instructions for each attribute:\\n\"\n",
        "        \"Manufacturer: Provide me the full form of the company abbreviation only one which is given as a input. \"\n",
        "        \"The company is a manufacturer of computers, and if you find the answer give it as key:\\n\"\n",
        "        \"Rotational Speed: Provide me the number of cores given in the input. \"\n",
        "        \"This is the core size of the server, and if you find the answer give it as key:\\n\"\n",
        "        \"Processor Core: Convert the rotational speed in full numeric value which is given in the input. \"\n",
        "        \"This is the rotational speed, and if you find the answer give it as key:\"\n",
        "    )\n",
        "\n",
        "    response = openai.ChatCompletion.create(\n",
        "        model=\"gpt-3.5-turbo\",\n",
        "        messages=[\n",
        "            {\"role\": \"system\", \"content\": \"You are a helpful assistant.\"},\n",
        "            {\"role\": \"user\", \"content\": prompt},\n",
        "            {\"role\": \"user\", \"content\": f\"Input JSON: {input_json}\"}\n",
        "        ]\n",
        "    )\n",
        "\n",
        "    answer = response.choices[0].message['content']\n",
        "    return answer\n",
        "\n",
        "# Example input JSON\n",
        "'''input_json = {\n",
        "    \"Manufacturer\": \"HP\",\n",
        "    \"Rotational Speed\": \"2.5GHz\",\n",
        "    \"Processor Core\": \"4 cores\"\n",
        "}'''\n",
        "\n",
        "with open('formatted_data.json', 'r') as file:\n",
        "    input_json = json.load(file)\n",
        "\n",
        "normalized_attributes = normalize_attributes(input_json)\n",
        "print(normalized_attributes)"
      ]
    }
  ]
}